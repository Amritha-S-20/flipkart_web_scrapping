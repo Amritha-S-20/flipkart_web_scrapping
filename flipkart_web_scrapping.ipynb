{
  "nbformat": 4,
  "nbformat_minor": 0,
  "metadata": {
    "colab": {
      "name": "flipkart_web_scrapping.ipynb",
      "provenance": [],
      "authorship_tag": "ABX9TyP7ybBSL3vvIDgvMwQOJXiP",
      "include_colab_link": true
    },
    "kernelspec": {
      "name": "python3",
      "display_name": "Python 3"
    },
    "language_info": {
      "name": "python"
    }
  },
  "cells": [
    {
      "cell_type": "markdown",
      "metadata": {
        "id": "view-in-github",
        "colab_type": "text"
      },
      "source": [
        "<a href=\"https://colab.research.google.com/github/Amritha-S-20/flipkart_web_scrapping/blob/main/flipkart_web_scrapping.ipynb\" target=\"_parent\"><img src=\"https://colab.research.google.com/assets/colab-badge.svg\" alt=\"Open In Colab\"/></a>"
      ]
    },
    {
      "cell_type": "markdown",
      "metadata": {
        "id": "qXwlrubSSTzy"
      },
      "source": [
        "## Flipkart web scrapping\n",
        "details of water purifier\n"
      ]
    },
    {
      "cell_type": "code",
      "metadata": {
        "id": "0CNrl7qbp1Cq"
      },
      "source": [
        "#importing all the necessary packages\n",
        "import requests\n",
        "from bs4 import BeautifulSoup\n",
        "import pandas as pd\n",
        "import time\n",
        "from IPython.display import clear_output"
      ],
      "execution_count": null,
      "outputs": []
    },
    {
      "cell_type": "code",
      "metadata": {
        "id": "swihrlp3p8JI"
      },
      "source": [
        "base_url='https://www.flipkart.com/water-purifiers/pr?sid=j9e%2Cabm%2Ci45&page=' "
      ],
      "execution_count": null,
      "outputs": []
    },
    {
      "cell_type": "code",
      "metadata": {
        "id": "ZUerofNQIjkr",
        "colab": {
          "base_uri": "https://localhost:8080/"
        },
        "outputId": "e40115da-bf2e-434c-f026-299008c923a1"
      },
      "source": [
        "product_name=[]                  #empty lists for storing corresponding values from the website \n",
        "price_of_the_product=[]\n",
        "properties=[]\n",
        "star_ratings=[]\n",
        "no_of_ratings=[]\n",
        "no_of_reviews=[]\n",
        "\n",
        "for i in range(1,26):           #scrapping data from 25 pages\n",
        "\n",
        "  print(f'Scrapping value from {i}th page')\n",
        "  clear_output(wait=True)\n",
        "\n",
        "  time.sleep(2)\n",
        "\n",
        "  url=base_url+str(i)              #identifying the pattern of the url for 25 pages\n",
        "  req=requests.get(url)            #sending request for the website        \n",
        "  soup=BeautifulSoup(req.text,'html')  #creating soup object\n",
        "\n",
        "  #product_name\n",
        "  p_name=soup.findAll('div',attrs={'class':'col col-7-12'}) \n",
        "  for i in p_name:\n",
        "    product_name.append(i.div.text)            \n",
        "\n",
        "  #product price\n",
        "  price=soup.findAll('div',attrs={'class':'_30jeq3 _1_WHN1'})\n",
        "  for i in price:\n",
        "    price_of_the_product.append(i.text)\n",
        "\n",
        "  #product propertie\n",
        "  prop_list= soup.findAll('ul',attrs={'class':'_1xgFaf'})   \n",
        "  for i in prop_list:\n",
        "    li_list = [j.text for j in i.findAll('li')]\n",
        "    properties.append(li_list)\n",
        "    for j in properties:\n",
        "      ' , '.join(j)\n",
        "  \n",
        "  my_container=soup.find_all('div',class_='col col-7-12')\n",
        "\n",
        "  #star rating\n",
        "  for i in my_container:\n",
        "    if i.find('div',class_=\"gUuXy-\") is not None:\n",
        "      star=i.find('div',class_='gUuXy-').span.div.text\n",
        "      star_ratings.append(star)\n",
        "    else :\n",
        "      star_ratings.append('none')\n",
        "\n",
        "  #no. of ratings and reviews\n",
        "  for i in my_container:\n",
        "    if i.find('div',class_=\"gUuXy-\") is not None:\n",
        "      a=i.find('span',class_='_2_R_DZ').text\n",
        "      b=a.split()\n",
        "      no_of_ratings.append(b[0])\n",
        "      no_of_reviews.append(b[3])\n",
        "    else:\n",
        "      no_of_ratings.append('none')\n",
        "      no_of_reviews.append('none')\n",
        "\n"
      ],
      "execution_count": null,
      "outputs": [
        {
          "output_type": "stream",
          "text": [
            "Scrapping value from 25th page\n"
          ],
          "name": "stdout"
        }
      ]
    },
    {
      "cell_type": "code",
      "metadata": {
        "id": "xGEIZGm9m-n0",
        "colab": {
          "base_uri": "https://localhost:8080/"
        },
        "outputId": "9d5c6a27-3ecc-408b-84fb-673a536e8145"
      },
      "source": [
        "len(product_name),len(price_of_the_product),len(properties),len(star_ratings),len(no_of_ratings),len(no_of_reviews)"
      ],
      "execution_count": null,
      "outputs": [
        {
          "output_type": "execute_result",
          "data": {
            "text/plain": [
              "(600, 600, 600, 600, 600, 600)"
            ]
          },
          "metadata": {
            "tags": []
          },
          "execution_count": 9
        }
      ]
    },
    {
      "cell_type": "code",
      "metadata": {
        "colab": {
          "base_uri": "https://localhost:8080/",
          "height": 585
        },
        "id": "5o0Bn-DY9FyJ",
        "outputId": "dfcff502-401a-42a1-a460-64b50a9aec10"
      },
      "source": [
        "#converting all lists into Dataframe\n",
        "data=pd.DataFrame({'product_name':product_name,'price_of_the_product':price_of_the_product,'properties':properties,'star_ratings':star_ratings,'no_of_ratings':no_of_ratings,'no_of_reviews':no_of_reviews})\n",
        "data"
      ],
      "execution_count": null,
      "outputs": [
        {
          "output_type": "execute_result",
          "data": {
            "text/html": [
              "<div>\n",
              "<style scoped>\n",
              "    .dataframe tbody tr th:only-of-type {\n",
              "        vertical-align: middle;\n",
              "    }\n",
              "\n",
              "    .dataframe tbody tr th {\n",
              "        vertical-align: top;\n",
              "    }\n",
              "\n",
              "    .dataframe thead th {\n",
              "        text-align: right;\n",
              "    }\n",
              "</style>\n",
              "<table border=\"1\" class=\"dataframe\">\n",
              "  <thead>\n",
              "    <tr style=\"text-align: right;\">\n",
              "      <th></th>\n",
              "      <th>product_name</th>\n",
              "      <th>price_of_the_product</th>\n",
              "      <th>properties</th>\n",
              "      <th>star_ratings</th>\n",
              "      <th>no_of_ratings</th>\n",
              "      <th>no_of_reviews</th>\n",
              "    </tr>\n",
              "  </thead>\n",
              "  <tbody>\n",
              "    <tr>\n",
              "      <th>0</th>\n",
              "      <td>LIVPURE LIV-PEP-PRO-PLUS+ 7 L RO + UV + UF Wat...</td>\n",
              "      <td>₹8,499</td>\n",
              "      <td>[Electrical &amp; Storage, RO + UV + UF, 7 L Capac...</td>\n",
              "      <td>4.3</td>\n",
              "      <td>60,181</td>\n",
              "      <td>9,233</td>\n",
              "    </tr>\n",
              "    <tr>\n",
              "      <th>1</th>\n",
              "      <td>KENT Ace 8 L RO + UV + UF + TDS Water Purifier</td>\n",
              "      <td>₹13,999</td>\n",
              "      <td>[Electrical &amp; Storage, RO + UV + UF + TDS, 8 L...</td>\n",
              "      <td>4.4</td>\n",
              "      <td>44,883</td>\n",
              "      <td>5,154</td>\n",
              "    </tr>\n",
              "    <tr>\n",
              "      <th>2</th>\n",
              "      <td>Pureit by HUL Advanced Max 6 L Mineral RO + UV...</td>\n",
              "      <td>₹9,499</td>\n",
              "      <td>[Electrical &amp; Storage, Mineral RO + UV + MF + ...</td>\n",
              "      <td>4.4</td>\n",
              "      <td>12,195</td>\n",
              "      <td>2,378</td>\n",
              "    </tr>\n",
              "    <tr>\n",
              "      <th>3</th>\n",
              "      <td>Aquaguard Glory 6 L RO + UV + MTDS Water Purif...</td>\n",
              "      <td>₹14,999</td>\n",
              "      <td>[Electrical &amp; Storage, RO + UV + MTDS, 6 L Cap...</td>\n",
              "      <td>4.2</td>\n",
              "      <td>235</td>\n",
              "      <td>34</td>\n",
              "    </tr>\n",
              "    <tr>\n",
              "      <th>4</th>\n",
              "      <td>KENT gold original Spare Kit UF membrane, carb...</td>\n",
              "      <td>₹670</td>\n",
              "      <td>[Non - Electrical &amp; Non - Storage, Gravity Bas...</td>\n",
              "      <td>4.2</td>\n",
              "      <td>4,993</td>\n",
              "      <td>497</td>\n",
              "    </tr>\n",
              "    <tr>\n",
              "      <th>...</th>\n",
              "      <td>...</td>\n",
              "      <td>...</td>\n",
              "      <td>...</td>\n",
              "      <td>...</td>\n",
              "      <td>...</td>\n",
              "      <td>...</td>\n",
              "    </tr>\n",
              "    <tr>\n",
              "      <th>595</th>\n",
              "      <td>Eureka Forbes Aquasure from Aquaguard Desire 7...</td>\n",
              "      <td>₹7,999</td>\n",
              "      <td>[Electrical &amp; Storage, RO + MC, 7 L Capacity, ...</td>\n",
              "      <td>4.2</td>\n",
              "      <td>981</td>\n",
              "      <td>188</td>\n",
              "    </tr>\n",
              "    <tr>\n",
              "      <th>596</th>\n",
              "      <td>Grand plus NEW 15 L RO + UV + UF + TDS Water P...</td>\n",
              "      <td>₹5,799</td>\n",
              "      <td>[Electrical &amp; Storage, RO + UV + UF + TDS, 15 ...</td>\n",
              "      <td>none</td>\n",
              "      <td>none</td>\n",
              "      <td>none</td>\n",
              "    </tr>\n",
              "    <tr>\n",
              "      <th>597</th>\n",
              "      <td>Blue Star ICONIA 7 L RO + UV + UF + AMI Water ...</td>\n",
              "      <td>₹13,599</td>\n",
              "      <td>[Electrical &amp; Storage, RO + UV + UF + AMI, 7 L...</td>\n",
              "      <td>none</td>\n",
              "      <td>none</td>\n",
              "      <td>none</td>\n",
              "    </tr>\n",
              "    <tr>\n",
              "      <th>598</th>\n",
              "      <td>water solution nyc white COPPER RO+UV+TDS 15L ...</td>\n",
              "      <td>₹5,849</td>\n",
              "      <td>[Electrical &amp; Storage, RO + UV + UF + TDS, 15 ...</td>\n",
              "      <td>none</td>\n",
              "      <td>none</td>\n",
              "      <td>none</td>\n",
              "    </tr>\n",
              "    <tr>\n",
              "      <th>599</th>\n",
              "      <td>Hindware Calisto RO + UV + UF 7 L RO + UV + UF...</td>\n",
              "      <td>₹7,499</td>\n",
              "      <td>[Electrical &amp; Storage, RO + UV + UF, 7 L Capac...</td>\n",
              "      <td>4</td>\n",
              "      <td>19,851</td>\n",
              "      <td>4,290</td>\n",
              "    </tr>\n",
              "  </tbody>\n",
              "</table>\n",
              "<p>600 rows × 6 columns</p>\n",
              "</div>"
            ],
            "text/plain": [
              "                                          product_name  ... no_of_reviews\n",
              "0    LIVPURE LIV-PEP-PRO-PLUS+ 7 L RO + UV + UF Wat...  ...         9,233\n",
              "1       KENT Ace 8 L RO + UV + UF + TDS Water Purifier  ...         5,154\n",
              "2    Pureit by HUL Advanced Max 6 L Mineral RO + UV...  ...         2,378\n",
              "3    Aquaguard Glory 6 L RO + UV + MTDS Water Purif...  ...            34\n",
              "4    KENT gold original Spare Kit UF membrane, carb...  ...           497\n",
              "..                                                 ...  ...           ...\n",
              "595  Eureka Forbes Aquasure from Aquaguard Desire 7...  ...           188\n",
              "596  Grand plus NEW 15 L RO + UV + UF + TDS Water P...  ...          none\n",
              "597  Blue Star ICONIA 7 L RO + UV + UF + AMI Water ...  ...          none\n",
              "598  water solution nyc white COPPER RO+UV+TDS 15L ...  ...          none\n",
              "599  Hindware Calisto RO + UV + UF 7 L RO + UV + UF...  ...         4,290\n",
              "\n",
              "[600 rows x 6 columns]"
            ]
          },
          "metadata": {
            "tags": []
          },
          "execution_count": 10
        }
      ]
    },
    {
      "cell_type": "code",
      "metadata": {
        "id": "NwgyAJUm_Bp5"
      },
      "source": [
        "data.to_csv('flipkart_water_purifier_list.csv',index=False) #converting our dataframe to csv file"
      ],
      "execution_count": null,
      "outputs": []
    }
  ]
}